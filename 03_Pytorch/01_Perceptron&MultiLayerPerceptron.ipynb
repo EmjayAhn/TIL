{
 "cells": [
  {
   "cell_type": "markdown",
   "metadata": {},
   "source": [
    "# Perceptron & MultiLayerPerceptron\n",
    "- Pytorch 를 이용하여, Perceptron 의 한계인 XOR 문제를 잘 풀지 못함을 간단하게 구현해보고, Layer 하나를 더 추가한 MultiLayerPerceptron 과 비교해보겠습니다."
   ]
  },
  {
   "cell_type": "code",
   "execution_count": 1,
   "metadata": {},
   "outputs": [],
   "source": [
    "import torch\n",
    "import torch.nn as nn\n",
    "import torch.optim as optim\n",
    "import torch.nn.functional as F"
   ]
  },
  {
   "cell_type": "markdown",
   "metadata": {},
   "source": [
    "## 1. Generate Toy Data\n",
    "- XOR 문제를 풀어볼 것이므로, 작은 XOR dataset 을 만듭니다."
   ]
  },
  {
   "cell_type": "code",
   "execution_count": 3,
   "metadata": {
    "scrolled": true
   },
   "outputs": [
    {
     "name": "stdout",
     "output_type": "stream",
     "text": [
      "x_train:  tensor([[0., 0.],\n",
      "        [0., 1.],\n",
      "        [1., 0.],\n",
      "        [1., 1.]])\n",
      "y_train:  tensor([[0.],\n",
      "        [1.],\n",
      "        [1.],\n",
      "        [0.]])\n"
     ]
    }
   ],
   "source": [
    "x_train = torch.FloatTensor([[0, 0], [0, 1], [1, 0], [1, 1]])\n",
    "y_train = torch.FloatTensor([0, 1, 1, 0]).view(-1, 1)\n",
    "print(\"x_train: \", x_train)\n",
    "print(\"y_train: \", y_train)"
   ]
  },
  {
   "cell_type": "markdown",
   "metadata": {},
   "source": [
    "## 2. Single Layer Perceptron"
   ]
  },
  {
   "cell_type": "code",
   "execution_count": 6,
   "metadata": {},
   "outputs": [],
   "source": [
    "class Perceptron(nn.Module):\n",
    "    def __init__(self):\n",
    "        super().__init__()\n",
    "        self.layer1 = nn.Linear(2, 1)\n",
    "        \n",
    "    def forward(self, x):\n",
    "        return torch.sigmoid(self.layer1(x))"
   ]
  },
  {
   "cell_type": "code",
   "execution_count": 8,
   "metadata": {},
   "outputs": [
    {
     "name": "stdout",
     "output_type": "stream",
     "text": [
      "1000 Loss:  0.6931477785110474\n",
      "2000 Loss:  0.6931471824645996\n",
      "3000 Loss:  0.6931471824645996\n",
      "4000 Loss:  0.6931471824645996\n",
      "5000 Loss:  0.6931471824645996\n",
      "6000 Loss:  0.6931471824645996\n",
      "7000 Loss:  0.6931471824645996\n",
      "8000 Loss:  0.6931471824645996\n",
      "9000 Loss:  0.6931471824645996\n",
      "10000 Loss:  0.6931471824645996\n"
     ]
    }
   ],
   "source": [
    "model = Perceptron()\n",
    "\n",
    "criterion = nn.BCELoss()\n",
    "optimizer = optim.SGD(model.parameters(), lr=0.1)\n",
    "epochs = 10000\n",
    "\n",
    "for epoch in range(1, epochs + 1):\n",
    "    y_hat = model(x_train)\n",
    "    loss = criterion(y_hat, y_train)\n",
    "    \n",
    "    optimizer.zero_grad()\n",
    "    loss.backward()\n",
    "    optimizer.step()\n",
    "    if epoch % 1000 == 0:\n",
    "        print(epoch, \"Loss: \", loss.item())"
   ]
  },
  {
   "cell_type": "markdown",
   "metadata": {},
   "source": [
    "- 위와 같이, single layer perceptron의 경우, XOR 문제는 loss 가 절대 줄어들지 않는다."
   ]
  },
  {
   "cell_type": "markdown",
   "metadata": {},
   "source": [
    "## 3. Multi Layer Perceptron (2 Layers)\n",
    "- Multi Layer Perceptron"
   ]
  },
  {
   "cell_type": "code",
   "execution_count": 9,
   "metadata": {},
   "outputs": [],
   "source": [
    "class MultiPerceptron(nn.Module):\n",
    "    def __init__(self):\n",
    "        super().__init__()\n",
    "        self.layer1 = nn.Linear(2, 2)\n",
    "        self.layer2 = nn.Linear(2, 1)\n",
    "    \n",
    "    def forward(self, x):\n",
    "        output1 = torch.sigmoid(self.layer1(x))\n",
    "        output2 = torch.sigmoid(self.layer2(output1))\n",
    "        return output2"
   ]
  },
  {
   "cell_type": "code",
   "execution_count": 10,
   "metadata": {},
   "outputs": [
    {
     "name": "stdout",
     "output_type": "stream",
     "text": [
      "1000 Loss:  0.6795964241027832\n",
      "2000 Loss:  0.5958181619644165\n",
      "3000 Loss:  0.4991326332092285\n",
      "4000 Loss:  0.30597007274627686\n",
      "5000 Loss:  0.10888671875\n",
      "6000 Loss:  0.056766487658023834\n",
      "7000 Loss:  0.03728519380092621\n",
      "8000 Loss:  0.027482112869620323\n",
      "9000 Loss:  0.02165811136364937\n",
      "10000 Loss:  0.01782369613647461\n"
     ]
    }
   ],
   "source": [
    "model = MultiPerceptron()\n",
    "\n",
    "criterion = nn.BCELoss()\n",
    "optimizer = optim.SGD(model.parameters(), lr=0.1)\n",
    "\n",
    "epochs = 10000\n",
    "\n",
    "for epoch in range(1, epochs + 1):\n",
    "    y_hat = model(x_train)\n",
    "    loss = criterion(y_hat, y_train)\n",
    "\n",
    "    optimizer.zero_grad()\n",
    "    loss.backward()\n",
    "    optimizer.step()\n",
    "    \n",
    "    if epoch % 1000 == 0:\n",
    "        print(epoch, \"Loss: \", loss.item())"
   ]
  },
  {
   "cell_type": "markdown",
   "metadata": {},
   "source": [
    "- 위와 같이 Layer 를 하나만 더 추가하더라도, Loss 가 0.01 까지 줄어드는 것을 볼 수 있다."
   ]
  }
 ],
 "metadata": {
  "kernelspec": {
   "display_name": "Python 3",
   "language": "python",
   "name": "python3"
  },
  "language_info": {
   "codemirror_mode": {
    "name": "ipython",
    "version": 3
   },
   "file_extension": ".py",
   "mimetype": "text/x-python",
   "name": "python",
   "nbconvert_exporter": "python",
   "pygments_lexer": "ipython3",
   "version": "3.6.0"
  }
 },
 "nbformat": 4,
 "nbformat_minor": 2
}
