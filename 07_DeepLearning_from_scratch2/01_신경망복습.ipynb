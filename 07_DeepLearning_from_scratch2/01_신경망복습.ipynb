{
 "cells": [
  {
   "cell_type": "markdown",
   "metadata": {},
   "source": [
    "### Inference"
   ]
  },
  {
   "cell_type": "code",
   "execution_count": 2,
   "metadata": {},
   "outputs": [
    {
     "data": {
      "text/plain": [
       "array([[ 0.4054317 ,  2.16754997, -0.647636  ],\n",
       "       [ 0.2315486 ,  2.07744171, -0.93156581],\n",
       "       [ 0.89688732,  1.04055125, -0.95025732],\n",
       "       [ 0.27182485,  2.19728951, -0.74605449],\n",
       "       [ 0.36054035,  2.23796935, -0.63816526],\n",
       "       [ 0.4991919 ,  1.19255411, -1.29143618],\n",
       "       [ 0.15950393,  2.16827692, -0.93870194],\n",
       "       [ 0.03430074,  2.30189212, -0.98013467],\n",
       "       [ 0.57882192,  1.50991284, -0.98111868],\n",
       "       [ 0.40630735,  1.85917142, -0.88105633]])"
      ]
     },
     "execution_count": 2,
     "metadata": {},
     "output_type": "execute_result"
    }
   ],
   "source": [
    "import numpy as np\n",
    "\n",
    "def sigmoid(x):\n",
    "    return 1 / (1 + np.exp(-x))\n",
    "\n",
    "x = np.random.randn(10, 2)\n",
    "\n",
    "W1 = np.random.randn(2, 4)\n",
    "b1 = np.random.randn(4)\n",
    "\n",
    "W2 = np.random.randn(4, 3)\n",
    "b2 = np.random.randn(3)\n",
    "\n",
    "h = np.matmul(x, W1) + b1\n",
    "a = sigmoid(h)\n",
    "s = np.matmul(a, W2) + b2\n",
    "\n",
    "s"
   ]
  },
  {
   "cell_type": "code",
   "execution_count": null,
   "metadata": {},
   "outputs": [],
   "source": []
  }
 ],
 "metadata": {
  "kernelspec": {
   "display_name": "Python 3",
   "language": "python",
   "name": "python3"
  },
  "language_info": {
   "codemirror_mode": {
    "name": "ipython",
    "version": 3
   },
   "file_extension": ".py",
   "mimetype": "text/x-python",
   "name": "python",
   "nbconvert_exporter": "python",
   "pygments_lexer": "ipython3",
   "version": "3.6.0"
  }
 },
 "nbformat": 4,
 "nbformat_minor": 2
}
