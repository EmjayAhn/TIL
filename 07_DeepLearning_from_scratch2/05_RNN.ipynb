{
 "cells": [
  {
   "cell_type": "markdown",
   "metadata": {},
   "source": [
    "# 5. RNN\n",
    "- 단순한 feed forward 신경망은 시계열 적인 데이터에 대해 취약한 특징을 보인다.\n",
    "- 시계열 데이터의 패턴은 충분히 학습하기 위해 등장한 순환 신경망: RNN 에 대해 알아본다.\n",
    "\n",
    "## Language Model\n",
    "- 단어 나열에 확률을 부여하는 모델\n",
    "- 특정한 단어 시퀀스에 대해, 그 시퀀스가 일어날 가능성이 어느 정도인지 확률로 평가하는 모델\n",
    "\n",
    "$$P(w_1, ..., w_m) = P(w_m|w_1, ...,w_m)P(w_{m-1}|w_1, ..., w_{m-2})...P(w_2|w_1)P(w_1)$$\n",
    "- 위 식을 해석하자면, 첫번째부터 m 번째의 단어까지 동시에 나타날 확률은 t번째보다 왼쪽에 (이전에) 나타난 단어의 확률을 조건부로 t번째 단어가 나탈 확률을 모두 곱한것과 같다.\n"
   ]
  },
  {
   "cell_type": "markdown",
   "metadata": {},
   "source": [
    "#### Markov Model\n",
    "- 미래의 상태가 현재 상태에만 의존되 결정되는 모델\n",
    "- 어떤 Status 의 확률이 그 직전 N 개의 사건에만 의존할 때, N층 Markov Chain Model 이라 한다."
   ]
  },
  {
   "cell_type": "markdown",
   "metadata": {},
   "source": [
    "### RNN\n",
    "- Recurrent : 순환\n",
    "- 순환하기 위해서는 '닫힌 경로'가(=순환하는 경로) 필요\n",
    "- 데이터가 이 경로를 통해 순환하면서 정보가 끊임없이 갱신"
   ]
  },
  {
   "cell_type": "code",
   "execution_count": null,
   "metadata": {},
   "outputs": [],
   "source": []
  }
 ],
 "metadata": {
  "kernelspec": {
   "display_name": "Python 3",
   "language": "python",
   "name": "python3"
  },
  "language_info": {
   "codemirror_mode": {
    "name": "ipython",
    "version": 3
   },
   "file_extension": ".py",
   "mimetype": "text/x-python",
   "name": "python",
   "nbconvert_exporter": "python",
   "pygments_lexer": "ipython3",
   "version": "3.6.0"
  }
 },
 "nbformat": 4,
 "nbformat_minor": 2
}
