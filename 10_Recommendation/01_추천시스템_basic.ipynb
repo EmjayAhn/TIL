{
 "cells": [
  {
   "cell_type": "markdown",
   "metadata": {},
   "source": [
    "# 추천시스템\n",
    "- 정의 : 사용자(User)가 선호하는 상품(Item)을 예측\n",
    "- 사용자가 각 상품에 대해 평가한 평점(Rate)을 바탕으로, 사용자에게 어떤 상품을 추천할지 예측\n",
    "\n",
    "- Rough 한 개념도\n",
    "```\n",
    "User_id -> FUNCTION -> Item_id\n",
    "# 실제로는 모든 item 에 대해 rating 이 나와야한다.\n",
    "# 회귀분석(?) Classificattion(?) : 기존 회귀 분석과는 다른 회귀분석\n",
    "# 즉, user_id 와 item_id 의 두 개의 Categorical 입력이 들어가 Rate(평점)을 출력하는 모델\n",
    "```"
   ]
  },
  {
   "cell_type": "markdown",
   "metadata": {},
   "source": [
    "### 추천시스템 알고리즘\n",
    "1. Baseline\n",
    "2. Collaborative Filter <br>\n",
    "    2-1. Neighborhood 모형\n",
    "        - Memory-based CF\n",
    "        - 예측하려고하는 사용자와 **similarity** 가 높은 사용자에 대해 가중치를 주는 방법\n",
    "        - User-based CF: 평점 행렬에서 유사한 사용자 행 벡터를 찾아서, 이를 기반으로 빈 데이터를 계산하는 방법\n",
    "        - Item-based CF: 평점 행렬에서 상품 열 벡터의 윳사성을 찾아서, 특정 상품과 유사한 평점 정보를 가지는 상품들로 해당 상품의 빈 데이터를 계산하는 방법\n",
    "        ** 유사도 **\n",
    "        1. Mean Squared Difference Similarity\n",
    "        2. Cosine Similarity\n",
    "        3. Pearson Similarity = centered-cosine similarity\n",
    "        4. Pearson-Baseline Similarity\n",
    "    2-2. Latent Factor 모형\n",
    "    "
   ]
  },
  {
   "cell_type": "markdown",
   "metadata": {},
   "source": [
    "### 2.Collaborative Filter\n",
    "#### 2-1. User-User collaborative filtering\n",
    "- User x 의 item i 에 대한 ranting은 다음과 같다. (weighted average)\n",
    "$$r_{xi}=\\sum_{N}similarity(x, y)r_{yi}\\quad/\\quad\\sum_{N}similarity(x, y)$$\n",
    "N : User x 와 가장 비슷한 k 명의 user 집합\n",
    "y : 집합 N 에 포함된 user"
   ]
  },
  {
   "cell_type": "code",
   "execution_count": null,
   "metadata": {},
   "outputs": [],
   "source": []
  }
 ],
 "metadata": {
  "kernelspec": {
   "display_name": "Python 3",
   "language": "python",
   "name": "python3"
  },
  "language_info": {
   "codemirror_mode": {
    "name": "ipython",
    "version": 3
   },
   "file_extension": ".py",
   "mimetype": "text/x-python",
   "name": "python",
   "nbconvert_exporter": "python",
   "pygments_lexer": "ipython3",
   "version": "3.7.0"
  }
 },
 "nbformat": 4,
 "nbformat_minor": 2
}
