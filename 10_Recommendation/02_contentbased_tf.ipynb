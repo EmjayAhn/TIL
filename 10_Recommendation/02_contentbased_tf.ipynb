{
 "cells": [
  {
   "cell_type": "markdown",
   "metadata": {},
   "source": [
    "### Content-based Filtering Recommendation\n",
    "- google cloud Datalab 실습"
   ]
  },
  {
   "cell_type": "code",
   "execution_count": 1,
   "metadata": {},
   "outputs": [
    {
     "name": "stdout",
     "output_type": "stream",
     "text": [
      "1.13.1\n"
     ]
    }
   ],
   "source": [
    "import numpy as np\n",
    "import tensorflow as tf\n",
    "\n",
    "tf.enable_eager_execution()\n",
    "print(tf.__version__)"
   ]
  },
  {
   "cell_type": "markdown",
   "metadata": {},
   "source": [
    "- User List, Movie List, Movie's Features 만들기\n",
    "- Movie Feature: Action, Sci-Fi, Comedy, Cartoon, Drama"
   ]
  },
  {
   "cell_type": "code",
   "execution_count": 2,
   "metadata": {},
   "outputs": [],
   "source": [
    "users = ['Ryan', 'Danielle', 'Vijay', 'Chris']\n",
    "movies = ['Star Wars', 'The Dark Knight', 'Shrek', 'The Incredibles', 'Bleu', 'Memento']\n",
    "features = ['Action', 'Sci-Fi', 'Comedy', 'Cartoon', 'Drama']\n",
    "\n",
    "num_users = len(users)\n",
    "num_movies = len(movies)\n",
    "num_feats = len(features)\n",
    "num_recommendations = 2"
   ]
  },
  {
   "cell_type": "markdown",
   "metadata": {},
   "source": [
    "#### User, Rating, Feature 초기화\n",
    "- Uses-Movie Rating Matrix (1 ~ 10)\n",
    "    - 0 은 not seen/rated\n",
    "- Movie Feature 의 k-hot encoded Matrix\n",
    "    - Movie Feature Matrix\n",
    "    - Five Categories"
   ]
  },
  {
   "cell_type": "code",
   "execution_count": 3,
   "metadata": {},
   "outputs": [],
   "source": [
    "# Users x Movies => 4users x 6movies\n",
    "users_movies = tf.constant([\n",
    "    [4,  6,  8,  0, 0, 0],\n",
    "    [0,  0, 10,  0, 8, 3],\n",
    "    [0,  6,  0,  0, 3, 7],\n",
    "    [10, 9,  0,  5, 0, 2]], dtype=tf.float32)\n",
    "\n",
    "# Movies x Features => 6 movies x 5 features\n",
    "movies_feats = tf.constant([\n",
    "    [1, 1, 0, 0, 1],\n",
    "    [1, 1, 0, 0, 0],\n",
    "    [0, 0, 1, 1, 0],\n",
    "    [1, 0, 1, 1, 0],\n",
    "    [0, 0, 0, 0, 1],\n",
    "    [1, 0, 0, 0, 1]], dtype=tf.float32)"
   ]
  },
  {
   "cell_type": "markdown",
   "metadata": {},
   "source": [
    "### User Feature Matrix"
   ]
  },
  {
   "cell_type": "code",
   "execution_count": 4,
   "metadata": {},
   "outputs": [
    {
     "data": {
      "text/plain": [
       "<tf.Tensor: id=2, shape=(4, 5), dtype=float32, numpy=\n",
       "array([[10., 10.,  8.,  8.,  4.],\n",
       "       [ 3.,  0., 10., 10., 11.],\n",
       "       [13.,  6.,  0.,  0., 10.],\n",
       "       [26., 19.,  5.,  5., 12.]], dtype=float32)>"
      ]
     },
     "execution_count": 4,
     "metadata": {},
     "output_type": "execute_result"
    }
   ],
   "source": [
    "users_feats = tf.matmul(users_movies, movies_feats)\n",
    "users_feats"
   ]
  },
  {
   "cell_type": "code",
   "execution_count": 5,
   "metadata": {},
   "outputs": [
    {
     "data": {
      "text/plain": [
       "<tf.Tensor: id=6, shape=(4, 5), dtype=float32, numpy=\n",
       "array([[0.25      , 0.25      , 0.2       , 0.2       , 0.1       ],\n",
       "       [0.0882353 , 0.        , 0.29411766, 0.29411766, 0.32352942],\n",
       "       [0.44827586, 0.20689656, 0.        , 0.        , 0.3448276 ],\n",
       "       [0.3880597 , 0.2835821 , 0.07462686, 0.07462686, 0.17910448]],\n",
       "      dtype=float32)>"
      ]
     },
     "execution_count": 5,
     "metadata": {},
     "output_type": "execute_result"
    }
   ],
   "source": [
    "users_feats = users_feats/tf.reduce_sum(users_feats, axis=1, keepdims=True)\n",
    "users_feats"
   ]
  },
  {
   "cell_type": "markdown",
   "metadata": {},
   "source": [
    "### User 마다 비슷한 Ranking Feature"
   ]
  },
  {
   "cell_type": "code",
   "execution_count": 6,
   "metadata": {},
   "outputs": [
    {
     "data": {
      "text/plain": [
       "<tf.Tensor: id=10, shape=(4, 5), dtype=int32, numpy=\n",
       "array([[0, 1, 2, 3, 4],\n",
       "       [4, 2, 3, 0, 1],\n",
       "       [0, 4, 1, 2, 3],\n",
       "       [0, 1, 4, 2, 3]], dtype=int32)>"
      ]
     },
     "execution_count": 6,
     "metadata": {},
     "output_type": "execute_result"
    }
   ],
   "source": [
    "top_users_features = tf.nn.top_k(users_feats, num_feats)[1]\n",
    "top_users_features"
   ]
  },
  {
   "cell_type": "code",
   "execution_count": 7,
   "metadata": {},
   "outputs": [
    {
     "name": "stdout",
     "output_type": "stream",
     "text": [
      "Ryan: ['Action', 'Sci-Fi', 'Comedy', 'Cartoon', 'Drama']\n",
      "Danielle: ['Drama', 'Comedy', 'Cartoon', 'Action', 'Sci-Fi']\n",
      "Vijay: ['Action', 'Drama', 'Sci-Fi', 'Comedy', 'Cartoon']\n",
      "Chris: ['Action', 'Sci-Fi', 'Drama', 'Comedy', 'Cartoon']\n"
     ]
    }
   ],
   "source": [
    "for i in range(num_users):\n",
    "    feature_names = [features[index] for index in top_users_features[i]]\n",
    "    print('{}: {}'.format(users[i], feature_names))"
   ]
  },
  {
   "cell_type": "markdown",
   "metadata": {},
   "source": [
    "### 영화 추천!!"
   ]
  },
  {
   "cell_type": "code",
   "execution_count": 8,
   "metadata": {},
   "outputs": [
    {
     "data": {
      "text/plain": [
       "<tf.Tensor: id=130, shape=(4, 6), dtype=float32, numpy=\n",
       "array([[0.6       , 0.5       , 0.4       , 0.65      , 0.1       ,\n",
       "        0.35      ],\n",
       "       [0.4117647 , 0.0882353 , 0.5882353 , 0.67647064, 0.32352942,\n",
       "        0.4117647 ],\n",
       "       [1.        , 0.6551724 , 0.        , 0.44827586, 0.3448276 ,\n",
       "        0.79310346],\n",
       "       [0.8507463 , 0.6716418 , 0.14925373, 0.53731346, 0.17910448,\n",
       "        0.5671642 ]], dtype=float32)>"
      ]
     },
     "execution_count": 8,
     "metadata": {},
     "output_type": "execute_result"
    }
   ],
   "source": [
    "users_ratings = tf.matmul(users_feats, tf.transpose(movies_feats))\n",
    "users_ratings"
   ]
  },
  {
   "cell_type": "code",
   "execution_count": 9,
   "metadata": {},
   "outputs": [
    {
     "data": {
      "text/plain": [
       "<tf.Tensor: id=133, shape=(4, 6), dtype=bool, numpy=\n",
       "array([[False, False, False,  True,  True,  True],\n",
       "       [ True,  True, False,  True, False, False],\n",
       "       [ True, False,  True,  True, False, False],\n",
       "       [False, False,  True, False,  True, False]])>"
      ]
     },
     "execution_count": 9,
     "metadata": {},
     "output_type": "execute_result"
    }
   ],
   "source": [
    "tf.equal(users_movies, tf.zeros_like(users_movies))"
   ]
  },
  {
   "cell_type": "code",
   "execution_count": 10,
   "metadata": {},
   "outputs": [
    {
     "data": {
      "text/plain": [
       "<tf.Tensor: id=138, shape=(4, 6), dtype=float32, numpy=\n",
       "array([[0.        , 0.        , 0.        , 0.65      , 0.1       ,\n",
       "        0.35      ],\n",
       "       [0.4117647 , 0.0882353 , 0.        , 0.67647064, 0.        ,\n",
       "        0.        ],\n",
       "       [1.        , 0.        , 0.        , 0.44827586, 0.        ,\n",
       "        0.        ],\n",
       "       [0.        , 0.        , 0.14925373, 0.        , 0.17910448,\n",
       "        0.        ]], dtype=float32)>"
      ]
     },
     "execution_count": 10,
     "metadata": {},
     "output_type": "execute_result"
    }
   ],
   "source": [
    "users_ratings_new = tf.where(tf.equal(users_movies, tf.zeros_like(users_movies)),\n",
    "                                  users_ratings,\n",
    "                                  tf.zeros_like(tf.cast(users_movies, tf.float32)))\n",
    "users_ratings_new"
   ]
  },
  {
   "cell_type": "code",
   "execution_count": 11,
   "metadata": {},
   "outputs": [
    {
     "data": {
      "text/plain": [
       "<tf.Tensor: id=142, shape=(4, 2), dtype=int32, numpy=\n",
       "array([[3, 5],\n",
       "       [3, 0],\n",
       "       [0, 3],\n",
       "       [4, 2]], dtype=int32)>"
      ]
     },
     "execution_count": 11,
     "metadata": {},
     "output_type": "execute_result"
    }
   ],
   "source": [
    "top_movies = tf.nn.top_k(users_ratings_new, num_recommendations)[1]\n",
    "top_movies"
   ]
  },
  {
   "cell_type": "code",
   "execution_count": 12,
   "metadata": {},
   "outputs": [
    {
     "name": "stdout",
     "output_type": "stream",
     "text": [
      "Ryan: ['The Incredibles', 'Memento']\n",
      "Danielle: ['The Incredibles', 'Star Wars']\n",
      "Vijay: ['Star Wars', 'The Incredibles']\n",
      "Chris: ['Bleu', 'Shrek']\n"
     ]
    }
   ],
   "source": [
    "for i in range(num_users):\n",
    "    movie_names = [movies[index] for index in top_movies[i]]\n",
    "    print('{}: {}'.format(users[i],movie_names))"
   ]
  }
 ],
 "metadata": {
  "kernelspec": {
   "display_name": "Python 3",
   "language": "python",
   "name": "python3"
  },
  "language_info": {
   "codemirror_mode": {
    "name": "ipython",
    "version": 3
   },
   "file_extension": ".py",
   "mimetype": "text/x-python",
   "name": "python",
   "nbconvert_exporter": "python",
   "pygments_lexer": "ipython3",
   "version": "3.6.0"
  }
 },
 "nbformat": 4,
 "nbformat_minor": 2
}
