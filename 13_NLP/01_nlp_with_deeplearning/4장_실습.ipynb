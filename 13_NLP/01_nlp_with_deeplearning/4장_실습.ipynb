{
 "cells": [
  {
   "cell_type": "markdown",
   "metadata": {},
   "source": [
    "## 4.4 문장 단위 분절\n",
    "- 한 라인에 한 문장만 있어야, Modeling 하는데 수월.\n",
    "- 가지고 있는 데이터가, 한라인에 여러 문장이 있거나, 한 문장이 여러 라인에 걸쳐 있는 경우에는 문장 단위 분절이 필요하다.\n",
    "- 단순히 마침표만을 기준으로 문장 단위 분절을 하면, 문장의 마침의 의미로 사용되지 않는 . 까지 분절 되는 경우와, 마침표로 끝나지 않는ㄴ "
   ]
  },
  {
   "cell_type": "markdown",
   "metadata": {},
   "source": [
    "#### 4.4.1 문장 단위 분절 예제\n",
    "> 제 이름은 안민재 입니다. 지금은 저녁 8시, 저녁을 먹고 컴퓨터 앞에 앉아 한 귀에서는 뉴스를 들으며, 코드 한줄기를 연습하고 있습니다. 이 시간이 매우 편하고 행복한 시간이기도 합니다. 매일매일 조금씩이라도 코드 연습과, 새로운 기술 습득은 취미로나 특기로나 즐기고 있습니다."
   ]
  },
  {
   "cell_type": "code",
   "execution_count": 16,
   "metadata": {},
   "outputs": [
    {
     "name": "stdout",
     "output_type": "stream",
     "text": [
      "제 이름은 안민재 입니다.\n",
      "지금은 저녁 8시, 저녁을 먹고 컴퓨터 앞에 앉아 한 귀에서는 뉴스를 들으며, 코드 한줄기를 연습하고 있습니다.\n",
      "이 시간이 매우 편하고 행복한 시간이기도 합니다.\n",
      "매일매일 조금씩이라도 코드 연습과, 새로운 기술 습득은 취미로나 특기로나 즐기고 있습니다.\n"
     ]
    }
   ],
   "source": [
    "import re\n",
    "from nltk.tokenize import sent_tokenize\n",
    "\n",
    "corpus = \"제 이름은 안민재 입니다. 지금은 저녁 8시, 저녁을 먹고 컴퓨터 앞에 앉아 한 귀에서는 뉴스를 들으며, 코드 한줄기를 연습하고 있습니다. 이 시간이 매우 편하고 행복한 시간이기도 합니다. 매일매일 조금씩이라도 코드 연습과, 새로운 기술 습득은 취미로나 특기로나 즐기고 있습니다.\"\n",
    "\n",
    "if corpus.strip() != \"\":\n",
    "    # alphabet.Alphabet 이 있을 때, alphabet. Alphabet 형태로 변화\n",
    "    corpus = re.sub(r'([a-z])\\.([A-Z])', r'\\1. \\2', corpus.strip())\n",
    "    sentences = sent_tokenize(corpus.strip())\n",
    "    \n",
    "    for sentence in sentences:\n",
    "        if sentence != \"\":\n",
    "            print(sentence)\n"
   ]
  },
  {
   "cell_type": "code",
   "execution_count": 15,
   "metadata": {},
   "outputs": [
    {
     "data": {
      "text/plain": [
       "'제 이름은 안민재 입니다. 지금은 저녁 8시, 저녁을 먹고 컴퓨터 앞에 앉아 한 귀에서는 뉴스를 들으며, 코드 한줄기를 연습하고 있습니다.이 시간이 매우 편하고 행복한 시간이기도 합니다. 매일매일 조금씩이라도 코드 연습과, 새로운 기술 습득은 취미로나 특기로나 즐기고 있습니다. Hello, my name in emjay. This is for test'"
      ]
     },
     "execution_count": 15,
     "metadata": {},
     "output_type": "execute_result"
    }
   ],
   "source": [
    "corpus = \"제 이름은 안민재 입니다. 지금은 저녁 8시, 저녁을 먹고 컴퓨터 앞에 앉아 한 귀에서는 뉴스를 들으며, 코드 한줄기를 연습하고 있습니다.\\\n",
    "이 시간이 매우 편하고 행복한 시간이기도 합니다. 매일매일 조금씩이라도 코드 연습과, 새로운 기술 습득은 취미로나 특기로나 즐기고 있습니다. Hello, my name in emjay.This is for test\"\n",
    "corpus = re.sub(r'([a-z])\\.([A-Z])', r'\\1. \\2', corpus.strip())\n",
    "corpus"
   ]
  },
  {
   "cell_type": "markdown",
   "metadata": {},
   "source": [
    "#### 4.4.2 문장 합치기 및 분절 예제\n",
    "- 한문장이 여러 라인에 걸쳐서 있는 경우.\n",
    "> 제 이름은 안민재 입니다. 지금은 저녁 8시, 저녁을 먹고 컴퓨터 앞에 앉아 한 귀에서는 뉴스를 들으며,\n",
    "코드 한줄기를 연습하고 있습니다. 이 시간이 매우 편하고 행복한 시간이기도 합니다. 매일매일 조금씩이라도 코드 연습과, 새로운 기술 습득은 취미로나 특기로나 즐기고 있습니다."
   ]
  },
  {
   "cell_type": "code",
   "execution_count": 30,
   "metadata": {},
   "outputs": [
    {
     "data": {
      "text/plain": [
       "'제 이름은 안민재 입니다. 지금은 저녁 8시, 저녁을 먹고 컴퓨터 앞에 앉아 한 귀에서는 뉴스를 들으며,\\n코드 한줄기를 연습하고 있습니다. 이 시간이 매우 편하고 행복한 시간이기도 합니다. 매일매일 조금씩이라도 코드 연습과, 새로운 기술 습득은 취미로나 특기로나 즐기고 있습니다.'"
      ]
     },
     "execution_count": 30,
     "metadata": {},
     "output_type": "execute_result"
    }
   ],
   "source": [
    "corpus = '제 이름은 안민재 입니다. 지금은 저녁 8시, 저녁을 먹고 컴퓨터 앞에 앉아 한 귀에서는 뉴스를 들으며,\\n코드 한줄기를 연습하고 있습니다. 이 시간이 매우 편하고 행복한 시간이기도 합니다. 매일매일 조금씩이라도 코드 연습과, 새로운 기술 습득은 취미로나 특기로나 즐기고 있습니다.'\n",
    "corpus"
   ]
  },
  {
   "cell_type": "code",
   "execution_count": 31,
   "metadata": {},
   "outputs": [
    {
     "name": "stdout",
     "output_type": "stream",
     "text": [
      "제 이름은 안민재 입니다.\n",
      "지금은 저녁 8시, 저녁을 먹고 컴퓨터 앞에 앉아 한 귀에서는 뉴스를 들으며,\n",
      "코드 한줄기를 연습하고 있습니다.\n",
      "이 시간이 매우 편하고 행복한 시간이기도 합니다.\n",
      "\n",
      "매일매일 조금씩이라도 코드 연습과, 새로운 기술 습득은 취미로나 특기로나 즐기고 있습니다.\n",
      "\n"
     ]
    }
   ],
   "source": [
    "buf = []\n",
    "if corpus.strip() != \"\":\n",
    "    buf += [corpus.strip()]\n",
    "    sentences = sent_tokenize(\" \".join(buf))\n",
    "    \n",
    "    if len(sentences) > 1:\n",
    "        buf = sentences[-1:]\n",
    "        print('\\n'.join(sentences[:-1]) + '\\n')\n",
    "        \n",
    "print(' '.join(buf) + '\\n')"
   ]
  },
  {
   "cell_type": "markdown",
   "metadata": {},
   "source": [
    "#### 4.5.1 한국어 분절\n",
    "- konlpy + mecab\n",
    "\n",
    "```bash\n",
    "$ echo \"안녕하세요, 안녕하세요\" | mecab\n",
    "\n",
    "// 띄어쓰기만\n",
    "$ echo \"안녕하세요, 안녕하세요\" | mecab -O wakati\n",
    "\n",
    "```"
   ]
  },
  {
   "cell_type": "markdown",
   "metadata": {},
   "source": [
    "### 4.9 TorchText"
   ]
  },
  {
   "cell_type": "code",
   "execution_count": null,
   "metadata": {},
   "outputs": [],
   "source": []
  }
 ],
 "metadata": {
  "kernelspec": {
   "display_name": "Python 3",
   "language": "python",
   "name": "python3"
  },
  "language_info": {
   "codemirror_mode": {
    "name": "ipython",
    "version": 3
   },
   "file_extension": ".py",
   "mimetype": "text/x-python",
   "name": "python",
   "nbconvert_exporter": "python",
   "pygments_lexer": "ipython3",
   "version": "3.6.0"
  }
 },
 "nbformat": 4,
 "nbformat_minor": 2
}
