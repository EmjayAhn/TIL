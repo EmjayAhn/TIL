{
 "cells": [
  {
   "cell_type": "code",
   "execution_count": 2,
   "id": "fc34ef4f",
   "metadata": {},
   "outputs": [
    {
     "name": "stdout",
     "output_type": "stream",
     "text": [
      "당신의 이름은 안민재입니다! 😊\n"
     ]
    }
   ],
   "source": [
    "from langchain_core.messages import AIMessage, HumanMessage, SystemMessage\n",
    "from langchain_openai import ChatOpenAI, AzureChatOpenAI\n",
    "from dotenv import load_dotenv\n",
    "\n",
    "load_dotenv(override=True)\n",
    "\n",
    "model = AzureChatOpenAI(model=\"gpt-4o\",\n",
    "                        api_version=\"2025-04-01-preview\",\n",
    "                        temperature=0)\n",
    "\n",
    "messages = [\n",
    "    SystemMessage(\"You are a helpful assistant.\"),\n",
    "    HumanMessage(\"안녕하세요. 제 이름은 안민재입니다.\"),\n",
    "    AIMessage(\"안녕하세요. 안민재님. 반가워요.\"),\n",
    "    HumanMessage(\"제 이름이 뭐에요?\")\n",
    "]\n",
    "\n",
    "ai_message = model.invoke(messages)\n",
    "\n",
    "print(ai_message.content)"
   ]
  },
  {
   "cell_type": "code",
   "execution_count": 3,
   "id": "4084f3ad",
   "metadata": {},
   "outputs": [
    {
     "name": "stdout",
     "output_type": "stream",
     "text": [
      "안녕하세요! 😊 어떻게 도와드릴까요?"
     ]
    }
   ],
   "source": [
    "# Streaming\n",
    "\n",
    "messages = [\n",
    "    SystemMessage(\"You are a helpful assistant.\"),\n",
    "    HumanMessage(\"안녕!\"),\n",
    "]\n",
    "for chunk in model.stream(messages):\n",
    "    print(chunk.content, end=\"\", flush=True)"
   ]
  },
  {
   "cell_type": "code",
   "execution_count": 6,
   "id": "b2f08400",
   "metadata": {},
   "outputs": [
    {
     "name": "stdout",
     "output_type": "stream",
     "text": [
      "\n",
      "                                      다음 요리의 레시피를 생각해주세요.\n",
      "                                      요리명: 카레\n",
      "                                      \n"
     ]
    }
   ],
   "source": [
    "# PromptTemplate\n",
    "from langchain_core.prompts import PromptTemplate\n",
    "\n",
    "prompt = PromptTemplate.from_template(\"\"\"\n",
    "                                      다음 요리의 레시피를 생각해주세요.\n",
    "                                      요리명: {dish}\n",
    "                                      \"\"\")\n",
    "\n",
    "prompt_value = prompt.invoke({\"dish\": \"카레\"})\n",
    "print(prompt_value.text)"
   ]
  },
  {
   "cell_type": "code",
   "execution_count": null,
   "id": "f52dd036",
   "metadata": {},
   "outputs": [
    {
     "name": "stdout",
     "output_type": "stream",
     "text": [
      "[SystemMessage(content='사용자가 입력한 요리의 레시피를 생각해 주세요.', additional_kwargs={}, response_metadata={}),\n",
      " HumanMessage(content='카레', additional_kwargs={}, response_metadata={}),\n",
      " AIMessage(content='카레 레시피', additional_kwargs={}, response_metadata={})]\n"
     ]
    }
   ],
   "source": [
    "# ChatPromptTemplate\n",
    "from langchain_core.prompts import ChatPromptTemplate\n",
    "from pprint import pprint\n",
    "prompt = ChatPromptTemplate.from_messages(\n",
    "    [\n",
    "        (\"system\", \"사용자가 입력한 요리의 레시피를 생각해 주세요.\"),\n",
    "        (\"human\", \"{dish}\"),\n",
    "        (\"ai\", \"{recipe}\"), #(\"assistant\", \"\") 도 가능\n",
    "    ]\n",
    ")\n",
    "prompt_value = prompt.invoke({\"dish\": \"카레\", \"recipe\": \"카레 레시피\"})\n",
    "pprint(prompt_value.messages)"
   ]
  },
  {
   "cell_type": "code",
   "execution_count": 20,
   "id": "24eb9261",
   "metadata": {},
   "outputs": [
    {
     "name": "stdout",
     "output_type": "stream",
     "text": [
      "[SystemMessage(content='You are helpful assistant.', additional_kwargs={}, response_metadata={}),\n",
      " HumanMessage(content='안녕하세요, 저는 안민재입니다.!', additional_kwargs={}, response_metadata={}),\n",
      " AIMessage(content='안녕하세요, 안민재님. 반가워요.', additional_kwargs={}, response_metadata={}),\n",
      " HumanMessage(content='제 이름이 뭐에요?', additional_kwargs={}, response_metadata={})]\n"
     ]
    }
   ],
   "source": [
    "# Messages Placeholder\n",
    "from langchain_core.messages import AIMessage, HumanMessage\n",
    "from langchain_core.prompts import ChatPromptTemplate, MessagesPlaceholder\n",
    "\n",
    "prompt = ChatPromptTemplate.from_messages(\n",
    "    [\n",
    "        (\"system\", \"You are helpful assistant.\"),\n",
    "        MessagesPlaceholder(\"chat_history\", optional=True),\n",
    "        (\"human\", \"{input}\"),\n",
    "    ]\n",
    ")\n",
    "\n",
    "prompt_value = prompt.invoke(\n",
    "    {\n",
    "        \"chat_history\": [\n",
    "            HumanMessage(content=\"안녕하세요, 저는 안민재입니다.!\"),\n",
    "            AIMessage(content=\"안녕하세요, 안민재님. 반가워요.\"),\n",
    "        ],\n",
    "        \"input\": \"제 이름이 뭐에요?\",\n",
    "    }\n",
    ")\n",
    "\n",
    "pprint(prompt_value.messages)"
   ]
  },
  {
   "cell_type": "code",
   "execution_count": 21,
   "id": "5c148a74",
   "metadata": {},
   "outputs": [
    {
     "name": "stdout",
     "output_type": "stream",
     "text": [
      "당신의 이름은 안민재입니다! 😊\n"
     ]
    }
   ],
   "source": [
    "ai_message = model.invoke(prompt_value)\n",
    "print(ai_message.content)"
   ]
  },
  {
   "cell_type": "code",
   "execution_count": null,
   "id": "1b5fdfe3",
   "metadata": {},
   "outputs": [
    {
     "name": "stdout",
     "output_type": "stream",
     "text": [
      "The output should be formatted as a JSON instance that conforms to the JSON schema below.\n",
      "\n",
      "As an example, for the schema {\"properties\": {\"foo\": {\"title\": \"Foo\", \"description\": \"a list of strings\", \"type\": \"array\", \"items\": {\"type\": \"string\"}}}, \"required\": [\"foo\"]}\n",
      "the object {\"foo\": [\"bar\", \"baz\"]} is a well-formatted instance of the schema. The object {\"properties\": {\"foo\": [\"bar\", \"baz\"]}} is not well-formatted.\n",
      "\n",
      "Here is the output schema:\n",
      "```\n",
      "{\"properties\": {\"ingredients\": {\"description\": \"ingredients of the dish\", \"items\": {\"type\": \"string\"}, \"title\": \"Ingredients\", \"type\": \"array\"}, \"steps\": {\"description\": \"steps to make the dish\", \"items\": {\"type\": \"string\"}, \"title\": \"Steps\", \"type\": \"array\"}}, \"required\": [\"ingredients\", \"steps\"]}\n",
      "```\n"
     ]
    }
   ],
   "source": [
    "# Output Parsers\n",
    "# PydanticOutputParser\n",
    "\n",
    "from pydantic import BaseModel, Field\n",
    "\n",
    "class Recipe(BaseModel):\n",
    "    ingredients: list[str] = Field(description=\"ingredients of the dish\")\n",
    "    steps: list[str] = Field(description=\"steps to make the dish\")\n",
    "\n",
    "\n",
    "\n",
    "from langchain_core.output_parsers import PydanticOutputParser\n",
    "\n",
    "output_parser = PydanticOutputParser(pydantic_object=Recipe)\n",
    "format_instructions = output_parser.get_format_instructions()\n",
    "\n",
    "print(format_instructions)"
   ]
  },
  {
   "cell_type": "code",
   "execution_count": 23,
   "id": "4c835fe9",
   "metadata": {},
   "outputs": [
    {
     "name": "stdout",
     "output_type": "stream",
     "text": [
      "=== role: system ===\n",
      "사용자가 입력한 요리의 레시피를 생각해 주세요. \n",
      "\n",
      "The output should be formatted as a JSON instance that conforms to the JSON schema below.\n",
      "\n",
      "As an example, for the schema {\"properties\": {\"foo\": {\"title\": \"Foo\", \"description\": \"a list of strings\", \"type\": \"array\", \"items\": {\"type\": \"string\"}}}, \"required\": [\"foo\"]}\n",
      "the object {\"foo\": [\"bar\", \"baz\"]} is a well-formatted instance of the schema. The object {\"properties\": {\"foo\": [\"bar\", \"baz\"]}} is not well-formatted.\n",
      "\n",
      "Here is the output schema:\n",
      "```\n",
      "{\"properties\": {\"ingredients\": {\"description\": \"ingredients of the dish\", \"items\": {\"type\": \"string\"}, \"title\": \"Ingredients\", \"type\": \"array\"}, \"steps\": {\"description\": \"steps to make the dish\", \"items\": {\"type\": \"string\"}, \"title\": \"Steps\", \"type\": \"array\"}}, \"required\": [\"ingredients\", \"steps\"]}\n",
      "```\n",
      "=== role: user ===\n",
      "카레\n"
     ]
    }
   ],
   "source": [
    "from langchain_core.prompts import ChatPromptTemplate\n",
    "prompt = ChatPromptTemplate.from_messages(\n",
    "    [\n",
    "        (\"system\",\n",
    "         \"사용자가 입력한 요리의 레시피를 생각해 주세요. \\n\\n\"\n",
    "         \"{format_instructions}\"\n",
    "         ),\n",
    "        (\"human\", \"{dish}\"),\n",
    "    ]\n",
    ")\n",
    "\n",
    "prompt_with_format_instructions = prompt.partial(\n",
    "    format_instructions=format_instructions\n",
    ")\n",
    "\n",
    "prompt_value = prompt_with_format_instructions.invoke({\"dish\": \"카레\"})\n",
    "\n",
    "print(\"=== role: system ===\")\n",
    "print(prompt_value.messages[0].content)\n",
    "print(\"=== role: user ===\")\n",
    "print(prompt_value.messages[1].content)"
   ]
  },
  {
   "cell_type": "code",
   "execution_count": 26,
   "id": "c75c70fd",
   "metadata": {},
   "outputs": [
    {
     "name": "stdout",
     "output_type": "stream",
     "text": [
      "```json\n",
      "{\n",
      "  \"ingredients\": [\n",
      "    \"카레 가루\",\n",
      "    \"감자\",\n",
      "    \"당근\",\n",
      "    \"양파\",\n",
      "    \"고기 (소고기 또는 닭고기)\",\n",
      "    \"물\",\n",
      "    \"식용유\",\n",
      "    \"소금\",\n",
      "    \"후추\"\n",
      "  ],\n",
      "  \"steps\": [\n",
      "    \"감자, 당근, 양파를 먹기 좋은 크기로 썬다.\",\n",
      "    \"고기를 적당한 크기로 썰고 소금과 후추로 간을 한다.\",\n",
      "    \"냄비에 식용유를 두르고 양파를 볶아 향을 낸다.\",\n",
      "    \"고기를 넣고 겉면이 익을 때까지 볶는다.\",\n",
      "    \"감자와 당근을 넣고 함께 볶는다.\",\n",
      "    \"물을 냄비에 붓고 끓인다.\",\n",
      "    \"재료가 익으면 카레 가루를 넣고 잘 섞는다.\",\n",
      "    \"약한 불에서 카레가 걸쭉해질 때까지 끓인다.\",\n",
      "    \"완성된 카레를 밥과 함께 제공한다.\"\n",
      "  ]\n",
      "}\n",
      "```\n"
     ]
    }
   ],
   "source": [
    "from langchain_openai import AzureChatOpenAI\n",
    "\n",
    "model = AzureChatOpenAI(\n",
    "    model=\"gpt-4o\",\n",
    "    api_version=\"2025-04-01-preview\",\n",
    "    temperature=0\n",
    ")\n",
    "\n",
    "ai_message = model.invoke(prompt_value)\n",
    "print(ai_message.content)\n"
   ]
  },
  {
   "cell_type": "code",
   "execution_count": 27,
   "id": "05495c44",
   "metadata": {},
   "outputs": [
    {
     "name": "stdout",
     "output_type": "stream",
     "text": [
      "<class '__main__.Recipe'>\n",
      "ingredients=['카레 가루', '감자', '당근', '양파', '고기 (소고기 또는 닭고기)', '물', '식용유', '소금', '후추'] steps=['감자, 당근, 양파를 먹기 좋은 크기로 썬다.', '고기를 적당한 크기로 썰고 소금과 후추로 간을 한다.', '냄비에 식용유를 두르고 양파를 볶아 향을 낸다.', '고기를 넣고 겉면이 익을 때까지 볶는다.', '감자와 당근을 넣고 함께 볶는다.', '물을 냄비에 붓고 끓인다.', '재료가 익으면 카레 가루를 넣고 잘 섞는다.', '약한 불에서 카레가 걸쭉해질 때까지 끓인다.', '완성된 카레를 밥과 함께 제공한다.']\n"
     ]
    }
   ],
   "source": [
    "recipe = output_parser.invoke(ai_message)\n",
    "print(type(recipe))\n",
    "print(recipe)\n"
   ]
  },
  {
   "cell_type": "code",
   "execution_count": 29,
   "id": "e242b184",
   "metadata": {},
   "outputs": [
    {
     "name": "stdout",
     "output_type": "stream",
     "text": [
      "<class 'str'>\n",
      "안녕하세요, 저는 AI 어시턴트입니다.\n"
     ]
    }
   ],
   "source": [
    "# StrOutputParser\n",
    "from langchain_core.messages import AIMessage\n",
    "from langchain_core.output_parsers import StrOutputParser\n",
    "\n",
    "output_parser = StrOutputParser()\n",
    "\n",
    "ai_message = AIMessage(content=\"안녕하세요, 저는 AI 어시턴트입니다.\")\n",
    "ai_message = output_parser.invoke(ai_message)\n",
    "print(type(ai_message))\n",
    "print(ai_message)"
   ]
  },
  {
   "cell_type": "code",
   "execution_count": 30,
   "id": "2fa3cf26",
   "metadata": {},
   "outputs": [
    {
     "name": "stdout",
     "output_type": "stream",
     "text": [
      "카레는 간단하면서도 맛있게 즐길 수 있는 요리입니다. 아래는 기본적인 한국식 카레 레시피입니다. \n",
      "\n",
      "### 재료:\n",
      "- **카레 가루**: 1봉지 (약 100g, 인원수에 따라 조절)\n",
      "- **고기**: 돼지고기, 소고기, 닭고기 중 선택 (약 200~300g)\n",
      "- **감자**: 2~3개\n",
      "- **당근**: 1개\n",
      "- **양파**: 1~2개\n",
      "- **물**: 약 800ml (카레 가루 포장지에 적힌 양을 참고)\n",
      "- **식용유**: 약간\n",
      "- **밥**: 적당량 (카레와 함께 곁들일 밥)\n",
      "\n",
      "---\n",
      "\n",
      "### 조리 방법:\n",
      "\n",
      "1. **재료 손질**:\n",
      "   - 감자, 당근, 양파는 껍질을 벗기고 먹기 좋은 크기로 깍둑썰기합니다.\n",
      "   - 고기는 한입 크기로 썰어 준비합니다.\n",
      "\n",
      "2. **재료 볶기**:\n",
      "   - 냄비에 식용유를 두르고 중불로 가열합니다.\n",
      "   - 고기를 먼저 넣고 겉면이 익을 때까지 볶습니다.\n",
      "   - 고기가 익으면 감자, 당근, 양파를 넣고 함께 볶아줍니다. (채소가 살짝 투명해질 때까지)\n",
      "\n",
      "3. **물 넣기**:\n",
      "   - 볶은 재료에 물을 붓고 끓입니다. 물의 양은 카레 가루 포장지에 적힌 대로 조절하세요.\n",
      "   - 센 불에서 끓이다가 끓기 시작하면 중불로 줄이고 감자가 익을 때까지 약 10~15분 정도 끓입니다.\n",
      "\n",
      "4. **카레 가루 넣기**:\n",
      "   - 감자가 익으면 불을 약하게 줄이고 카레 가루를 넣습니다.\n",
      "   - 카레 가루가 뭉치지 않도록 잘 저어가며 섞어줍니다.\n",
      "\n",
      "5. **마무리**:\n",
      "   - 카레가 걸쭉해질 때까지 약 5분 정도 더 끓입니다.\n",
      "   - 간을 보고 부족한 경우 소금이나 후추로 조절합니다.\n",
      "\n",
      "6. **완성**:\n",
      "   - 따뜻한 밥 위에 카레를 얹어 내놓습니다. 기호에 따라 김치, 피클, 계란후라이 등을 곁들여도 좋습니다.\n",
      "\n",
      "---\n",
      "\n",
      "### 팁:\n",
      "- 더 풍미를 원한다면 사과, 파인애플, 버섯 등을 추가해도 좋습니다.\n",
      "- 매운맛을 좋아한다면 고춧가루나 청양고추를 약간 넣어보세요.\n",
      "- 카레는 하루 정도 숙성시키면 맛이 더 깊어집니다.\n",
      "\n",
      "맛있게 드세요! 😊\n"
     ]
    }
   ],
   "source": [
    "# LCEL (LangChain Expression Language)\n",
    "# 연쇄적으로 연결하고 싶은 경우\n",
    "# Prompt template 을 채우고, 그 결과를 Chat model에 제공한 후 그 결과를 Python 객체로 변환\n",
    "\n",
    "# prompt와 model 연결\n",
    "from langchain_core.prompts import ChatPromptTemplate\n",
    "from langchain_openai import AzureChatOpenAI\n",
    "\n",
    "model = AzureChatOpenAI(\n",
    "    model=\"gpt-4o\",\n",
    "    api_version=\"2025-04-01-preview\",\n",
    "    temperature=0\n",
    ")\n",
    "\n",
    "prompt = ChatPromptTemplate.from_messages(\n",
    "    [\n",
    "        (\"system\", \"사용자가 입력한 요리의 레시피를 생각해 주세요.\"),\n",
    "        (\"human\", \"{dish}\")\n",
    "    ]\n",
    ")\n",
    "\n",
    "model = AzureChatOpenAI(\n",
    "    model=\"gpt-4o\",\n",
    "    api_version=\"2025-04-01-preview\",\n",
    "    temperature=0\n",
    ")\n",
    "\n",
    "chain = prompt | model\n",
    "\n",
    "ai_message = chain.invoke({\"dish\": \"카레\"})\n",
    "print(ai_message.content)\n"
   ]
  },
  {
   "cell_type": "code",
   "execution_count": null,
   "id": "df9665cb",
   "metadata": {},
   "outputs": [],
   "source": [
    "# StrOutputParser를 연결에 추가\n"
   ]
  }
 ],
 "metadata": {
  "kernelspec": {
   "display_name": ".venv",
   "language": "python",
   "name": "python3"
  },
  "language_info": {
   "codemirror_mode": {
    "name": "ipython",
    "version": 3
   },
   "file_extension": ".py",
   "mimetype": "text/x-python",
   "name": "python",
   "nbconvert_exporter": "python",
   "pygments_lexer": "ipython3",
   "version": "3.13.5"
  }
 },
 "nbformat": 4,
 "nbformat_minor": 5
}
